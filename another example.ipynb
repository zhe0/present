{
  "cells": [
    {
      "cell_type": "markdown",
      "metadata": {
        "id": "view-in-github",
        "colab_type": "text"
      },
      "source": [
        "<a href=\"https://colab.research.google.com/github/zhe0/present/blob/main/another%20example.ipynb\" target=\"_parent\"><img src=\"https://colab.research.google.com/assets/colab-badge.svg\" alt=\"Open In Colab\"/></a>"
      ]
    },
    {
      "cell_type": "markdown",
      "source": [
        "## TTS and audio sythetic\n",
        "* ref:\n",
        "\n",
        "[coqui model](https://huggingface.co/coqui/XTTS-v2)\n",
        "\n",
        "[coqui docs](https://docs.coqui.ai/en/latest/index.html)"
      ],
      "metadata": {
        "id": "gA6ojmsrQYqz"
      }
    },
    {
      "cell_type": "markdown",
      "source": [
        "## installation and model download"
      ],
      "metadata": {
        "id": "0EheYf50RomU"
      }
    },
    {
      "cell_type": "code",
      "source": [
        "%pip install -q TTS"
      ],
      "metadata": {
        "id": "wPjXorgeVKIw"
      },
      "execution_count": null,
      "outputs": []
    },
    {
      "cell_type": "code",
      "source": [
        "import torch\n",
        "from TTS.api import TTS\n",
        "import locale\n",
        "locale.getpreferredencoding = lambda: \"UTF-8\""
      ],
      "metadata": {
        "id": "79JBUs0MX5EI"
      },
      "execution_count": null,
      "outputs": []
    },
    {
      "cell_type": "code",
      "source": [
        "# Get device\n",
        "device = \"cuda\" if torch.cuda.is_available() else \"cpu\"\n",
        "# Init TTS\n",
        "tts = TTS(\"tts_models/multilingual/multi-dataset/xtts_v2\").to(device)\n",
        "tts"
      ],
      "metadata": {
        "id": "TFYKWa7iAYb9"
      },
      "execution_count": null,
      "outputs": []
    },
    {
      "cell_type": "markdown",
      "source": [
        "## Speaker Synthesize\n",
        "* given sample wav file to gen audio\n",
        "* input：speaker_wav=\"/content/labor_desc.wav\"\n",
        "* output：file_path=\"output_sythetic.wav\"\n",
        "\n",
        "### 建議使用TTS產生wav\n",
        "* 需要wav上傳到colab，並預設在/content/路徑下\n",
        "[產生wav的TTS](https://speechgen.io/)"
      ],
      "metadata": {
        "id": "oi9tE0a0Rw94"
      }
    },
    {
      "cell_type": "code",
      "source": [],
      "metadata": {
        "id": "7UEdtZT5Gjo8"
      },
      "execution_count": null,
      "outputs": []
    }
  ],
  "metadata": {
    "accelerator": "GPU",
    "colab": {
      "provenance": [],
      "include_colab_link": true
    },
    "gpuClass": "standard",
    "kernelspec": {
      "display_name": "base",
      "language": "python",
      "name": "python3"
    },
    "language_info": {
      "name": "python",
      "version": "3.9.7"
    },
    "vscode": {
      "interpreter": {
        "hash": "db5031b3636a3f037ea48eb287fd3d023feb9033aefc2a9652a92e470fb0851b"
      }
    }
  },
  "nbformat": 4,
  "nbformat_minor": 0
}