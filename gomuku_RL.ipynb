{
  "nbformat": 4,
  "nbformat_minor": 0,
  "metadata": {
    "colab": {
      "provenance": [],
      "include_colab_link": true
    },
    "kernelspec": {
      "name": "python3",
      "display_name": "Python 3"
    },
    "language_info": {
      "name": "python"
    }
  },
  "cells": [
    {
      "cell_type": "markdown",
      "metadata": {
        "id": "view-in-github",
        "colab_type": "text"
      },
      "source": [
        "<a href=\"https://colab.research.google.com/github/zhe0/present/blob/main/gomuku_RL.ipynb\" target=\"_parent\"><img src=\"https://colab.research.google.com/assets/colab-badge.svg\" alt=\"Open In Colab\"/></a>"
      ]
    },
    {
      "cell_type": "code",
      "source": [
        "%pip install -q stable_baselines3\n",
        "%pip install -q shimmy>=0.2.1\n",
        "import gym\n",
        "from gym import spaces\n",
        "import numpy as np\n",
        "from stable_baselines3 import PPO"
      ],
      "metadata": {
        "colab": {
          "base_uri": "https://localhost:8080/"
        },
        "id": "pGl3OOXRsW34",
        "outputId": "41d52e1a-6f53-40d8-b70d-6ddb6a640bc6"
      },
      "execution_count": 1,
      "outputs": [
        {
          "output_type": "stream",
          "name": "stdout",
          "text": [
            "\u001b[2K     \u001b[90m━━━━━━━━━━━━━━━━━━━━━━━━━━━━━━━━━━━━━━━━\u001b[0m \u001b[32m182.1/182.1 kB\u001b[0m \u001b[31m3.2 MB/s\u001b[0m eta \u001b[36m0:00:00\u001b[0m\n",
            "\u001b[2K     \u001b[90m━━━━━━━━━━━━━━━━━━━━━━━━━━━━━━━━━━━━━━━━\u001b[0m \u001b[32m953.9/953.9 kB\u001b[0m \u001b[31m12.1 MB/s\u001b[0m eta \u001b[36m0:00:00\u001b[0m\n",
            "\u001b[?25h"
          ]
        }
      ]
    },
    {
      "cell_type": "code",
      "source": [
        "class GomokuEnv(gym.Env):\n",
        "    def __init__(self, size=15, win=5):\n",
        "        super(GomokuEnv, self).__init__()\n",
        "        # 定義狀態和動作空間\n",
        "        self.size = size\n",
        "        self.win = win\n",
        "        self.board = np.zeros((self.size, self.size), dtype=int)\n",
        "        self.action_space = spaces.Discrete(self.size * self.size)\n",
        "        self.observation_space = spaces.Box(low=0, high=2, shape=(self.size, self.size), dtype=int)\n",
        "        self.current_player = None\n",
        "    def human_move(self, x, y):\n",
        "        if self.is_valid_action((x, y)):\n",
        "            action = x * self.size + y\n",
        "            return self.step(action)\n",
        "        else:\n",
        "            raise ValueError(\"Invalid move! Please try again.\")\n",
        "\n",
        "    def model_move(self, model):\n",
        "        valid_actions = self.get_valid_actions()\n",
        "        best_action = None\n",
        "        best_value = -float('inf')\n",
        "\n",
        "        # Assuming the model has a predict method that takes the board state and returns a value for each action\n",
        "        for action in valid_actions:\n",
        "            x, y = action\n",
        "            action_index = x * self.size + y\n",
        "            value = model.predict(self.board.reshape(1, -1), action_index)\n",
        "            if value > best_value:\n",
        "                best_value = value\n",
        "                best_action = action\n",
        "        return best_action\n",
        "    def step(self, action):\n",
        "        # 執行動作並返回新的狀態、獎勵和遊戲是否結束\n",
        "        x, y = action // self.size, action % self.size\n",
        "        self.board[x][y] = self.current_player  # 玩家的棋子\n",
        "        done = self.check_done((x, y))\n",
        "        self.current_player = 3 - self.current_player\n",
        "        # if not done:\n",
        "        #     self.play2()  # 對手的棋子\n",
        "        #     done = self.check_done()\n",
        "        return self.board, -1 if done else 0, done, {}\n",
        "        #return new_state, reward, done, info\n",
        "\n",
        "    def get_valid_actions(self):\n",
        "        # 返回所有有效的動作\n",
        "        return [(i, j) for i in range(self.size) for j in range(self.size) if self.board[i][j] == 0]\n",
        "\n",
        "    def is_valid_action(self, action):\n",
        "        # 檢查一個動作是否有效\n",
        "        x, y = action\n",
        "        return 0 <= x < self.size and 0 <= y < self.size and self.board[x][y] == 0\n",
        "    def get_state(self):\n",
        "        # 返回當前的狀態\n",
        "        return self.board\n",
        "    def get_current_player(self):\n",
        "        # 返回當前的玩家\n",
        "        return self.current_player\n",
        "    def reset(self):\n",
        "        # 重置遊戲環境並返回初始狀態\n",
        "        self.board = np.zeros((self.size, self.size), dtype=int)\n",
        "        self.current_player = 1\n",
        "        return self.get_state()\n",
        "\n",
        "    def render(self):\n",
        "        # 顯示遊戲環境的當前狀態\n",
        "        print(self.board)\n",
        "\n",
        "    def play2(self):\n",
        "        while True:\n",
        "            x, y = np.random.randint(0, self.size, 2)\n",
        "            if self.board[x][y] == 0:\n",
        "                self.board[x][y] = 2\n",
        "                break\n",
        "\n",
        "    def check_done(self, last_move):\n",
        "        directions = [(1, 0), (0, 1), (1, 1), (1, -1)]\n",
        "        for dx, dy in directions:\n",
        "            count = 1\n",
        "            for _ in range(1, self.win):\n",
        "                nx, ny = last_move[0] + dx * _, last_move[1] + dy * _\n",
        "                if nx < 0 or nx >= self.size or ny < 0 or ny >= self.size or self.board[nx][ny] != self.current_player:\n",
        "                    break\n",
        "                count += 1\n",
        "            for _ in range(1, self.win):\n",
        "                nx, ny = last_move[0] - dx * _, last_move[1] - dy * _\n",
        "                if nx < 0 or nx >= self.size or ny < 0 or ny >= self.size or self.board[nx][ny] != self.current_player:\n",
        "                    break\n",
        "                count += 1\n",
        "            if count >= self.win:\n",
        "                # print('done')\n",
        "                return True\n",
        "        return False"
      ],
      "metadata": {
        "id": "9leJc0NAvQpc"
      },
      "execution_count": 2,
      "outputs": []
    },
    {
      "cell_type": "code",
      "source": [
        "# 建立模型\n",
        "model = PPO(\"MlpPolicy\", GomokuEnv(), verbose=0)\n",
        "\n",
        "# 訓練模型\n",
        "model.learn(total_timesteps=100_000_000)\n",
        "env = GomokuEnv(15)"
      ],
      "metadata": {
        "colab": {
          "base_uri": "https://localhost:8080/"
        },
        "id": "RTnqVHD1sbFe",
        "outputId": "1a0c4d68-de20-417d-c163-4d1e41316c9c"
      },
      "execution_count": null,
      "outputs": [
        {
          "output_type": "stream",
          "name": "stderr",
          "text": [
            "/usr/local/lib/python3.10/dist-packages/stable_baselines3/common/vec_env/patch_gym.py:49: UserWarning: You provided an OpenAI Gym environment. We strongly recommend transitioning to Gymnasium environments. Stable-Baselines3 is automatically wrapping your environments in a compatibility layer, which could potentially cause issues.\n",
            "  warnings.warn(\n"
          ]
        }
      ]
    },
    {
      "cell_type": "code",
      "source": [],
      "metadata": {
        "id": "AnijPfKe59zM"
      },
      "execution_count": null,
      "outputs": []
    },
    {
      "cell_type": "code",
      "source": [
        "# 測試模型\n",
        "obs = env.reset()\n",
        "for i in range(1000):\n",
        "    action, _states = model.predict(obs)\n",
        "    obs, rewards, dones, info = env.step(action)\n",
        "    env.render()"
      ],
      "metadata": {
        "id": "TNINPIoQr1cB"
      },
      "execution_count": null,
      "outputs": []
    },
    {
      "cell_type": "code",
      "source": [
        "\n",
        "# Assuming you have the GomokuEnv and model as defined previously\n",
        "obs = env.reset()\n",
        "done = False\n",
        "current_player = env.get_current_player()\n",
        "\n",
        "while not done:\n",
        "    if current_player == 1:  # Assuming 1 is the model's turn\n",
        "        action, _states = model.predict(obs)\n",
        "        obs, rewards, done, info = env.step(action)\n",
        "        print(\"Model made a move\")\n",
        "        env.render()  # Show the board after the model's move\n",
        "    else:  # Human player's turn\n",
        "        valid = False\n",
        "        while not valid:\n",
        "            try:\n",
        "                # Replace this with your method of getting human input, e.g., from a UI\n",
        "                x = int(input(\"Enter your move's X coordinate: \"))\n",
        "                y = int(input(\"Enter your move's Y coordinate: \"))\n",
        "                obs, rewards, done, info = env.human_move(x, y)\n",
        "                valid = True\n",
        "                print(\"You made a move\")\n",
        "                env.render()  # Show the board after the human's move\n",
        "            except ValueError as e:\n",
        "                print(e)\n",
        "\n",
        "    if done:\n",
        "        if rewards == -1:\n",
        "            print(\"Game Over. The winner is the model.\")\n",
        "        else:\n",
        "            print(\"Game Over. It's a draw or the human wins.\")\n",
        "        break\n",
        "    current_player = env.get_current_player()"
      ],
      "metadata": {
        "id": "zk6m4InZPcu5"
      },
      "execution_count": null,
      "outputs": []
    },
    {
      "cell_type": "code",
      "source": [],
      "metadata": {
        "id": "rCWKE14j9dHa"
      },
      "execution_count": null,
      "outputs": []
    },
    {
      "cell_type": "code",
      "source": [
        "%pip install arxiv"
      ],
      "metadata": {
        "colab": {
          "base_uri": "https://localhost:8080/"
        },
        "id": "ZWwrJI7N9dKF",
        "outputId": "3191bf01-ffc2-47ad-c8d0-0c7f5dc96e14"
      },
      "execution_count": null,
      "outputs": [
        {
          "output_type": "stream",
          "name": "stdout",
          "text": [
            "Collecting arxiv\n",
            "  Downloading arxiv-2.1.0-py3-none-any.whl (11 kB)\n",
            "Collecting feedparser==6.0.10 (from arxiv)\n",
            "  Downloading feedparser-6.0.10-py3-none-any.whl (81 kB)\n",
            "\u001b[2K     \u001b[90m━━━━━━━━━━━━━━━━━━━━━━━━━━━━━━━━━━━━━━━━\u001b[0m \u001b[32m81.1/81.1 kB\u001b[0m \u001b[31m1.3 MB/s\u001b[0m eta \u001b[36m0:00:00\u001b[0m\n",
            "\u001b[?25hRequirement already satisfied: requests==2.31.0 in /usr/local/lib/python3.10/dist-packages (from arxiv) (2.31.0)\n",
            "Collecting sgmllib3k (from feedparser==6.0.10->arxiv)\n",
            "  Downloading sgmllib3k-1.0.0.tar.gz (5.8 kB)\n",
            "  Preparing metadata (setup.py) ... \u001b[?25l\u001b[?25hdone\n",
            "Requirement already satisfied: charset-normalizer<4,>=2 in /usr/local/lib/python3.10/dist-packages (from requests==2.31.0->arxiv) (3.3.2)\n",
            "Requirement already satisfied: idna<4,>=2.5 in /usr/local/lib/python3.10/dist-packages (from requests==2.31.0->arxiv) (3.6)\n",
            "Requirement already satisfied: urllib3<3,>=1.21.1 in /usr/local/lib/python3.10/dist-packages (from requests==2.31.0->arxiv) (2.0.7)\n",
            "Requirement already satisfied: certifi>=2017.4.17 in /usr/local/lib/python3.10/dist-packages (from requests==2.31.0->arxiv) (2024.2.2)\n",
            "Building wheels for collected packages: sgmllib3k\n",
            "  Building wheel for sgmllib3k (setup.py) ... \u001b[?25l\u001b[?25hdone\n",
            "  Created wheel for sgmllib3k: filename=sgmllib3k-1.0.0-py3-none-any.whl size=6049 sha256=270e419a53167dae92b2d96b7aada3031e38d654e097f94a4ece6590c63a9cb8\n",
            "  Stored in directory: /root/.cache/pip/wheels/f0/69/93/a47e9d621be168e9e33c7ce60524393c0b92ae83cf6c6e89c5\n",
            "Successfully built sgmllib3k\n",
            "Installing collected packages: sgmllib3k, feedparser, arxiv\n",
            "Successfully installed arxiv-2.1.0 feedparser-6.0.10 sgmllib3k-1.0.0\n"
          ]
        }
      ]
    },
    {
      "cell_type": "code",
      "source": [
        "import arxiv\n",
        "\n",
        "# Construct the default API client.\n",
        "client = arxiv.Client()\n",
        "\n",
        "# Search for the 10 most recent articles matching the keyword \"quantum.\"\n",
        "search = arxiv.Search(\n",
        "  query = \"AI\",\n",
        "  max_results = 10,\n",
        "#   sort_by = arxiv.SortCriterion.SubmittedDate\n",
        ")\n",
        "\n",
        "results = client.results(search)\n"
      ],
      "metadata": {
        "id": "xWLvfZCB9dMj"
      },
      "execution_count": null,
      "outputs": []
    },
    {
      "cell_type": "code",
      "source": [
        "# for r in client.results(search):\n",
        "#     break\n",
        "r.title,'\\n',r.summary,'\\n',r.ab"
      ],
      "metadata": {
        "colab": {
          "base_uri": "https://localhost:8080/"
        },
        "id": "xa73x9fs93f2",
        "outputId": "9729d336-360a-49cf-c726-2b6e04606a55"
      },
      "execution_count": null,
      "outputs": [
        {
          "output_type": "execute_result",
          "data": {
            "text/plain": [
              "('Supporting AI/ML Security Workers through an Adversarial Techniques, Tools, and Common Knowledge (AI/ML ATT&CK) Framework',\n",
              " '\\n',\n",
              " 'This paper focuses on supporting AI/ML Security Workers -- professionals\\ninvolved in the development and deployment of secure AI-enabled software\\nsystems. It presents AI/ML Adversarial Techniques, Tools, and Common Knowledge\\n(AI/ML ATT&CK) framework to enable AI/ML Security Workers intuitively to\\nexplore offensive and defensive tactics.')"
            ]
          },
          "metadata": {},
          "execution_count": 7
        }
      ]
    },
    {
      "cell_type": "code",
      "source": [
        "\n",
        "# `results` is a generator; you can iterate over its elements one by one...\n",
        "for r in client.results(search):\n",
        "  print(r.title)\n",
        "# ...or exhaust it into a list. Careful: this is slow for large results sets.\n",
        "all_results = list(results)\n",
        "print([r.title for r in all_results])\n",
        "\n",
        "# For advanced query syntax documentation, see the arXiv API User Manual:\n",
        "# https://arxiv.org/help/api/user-manual#query_details\n",
        "search = arxiv.Search(query = \"au:del_maestro AND ti:checkerboard\")\n",
        "first_result = next(client.results(search))\n",
        "print(first_result)\n",
        "\n",
        "# Search for the paper with ID \"1605.08386v1\"\n",
        "search_by_id = arxiv.Search(id_list=[\"1605.08386v1\"])\n",
        "# Reuse client to fetch the paper, then print its title.\n",
        "first_result = next(client.results(search))\n",
        "print(first_result.title)"
      ],
      "metadata": {
        "id": "RpI909wL92oH"
      },
      "execution_count": null,
      "outputs": []
    }
  ]
}